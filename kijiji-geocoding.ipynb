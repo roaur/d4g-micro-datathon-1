{
 "cells": [
  {
   "cell_type": "markdown",
   "metadata": {},
   "source": [
    "# Calgary Data for Good Micro Hackathon #1\n",
    "\n",
    "Author: Roman Auriti\n",
    "\n",
    "Date: April 23, 2020\n",
    "\n",
    "\n",
    "## Introduction\n",
    "I do GIS professionally and thought that the best thing I could do to help would be to do what's called [geocoding](https://en.wikipedia.org/wiki/Geocoding) to the Kijiji datasets that have been provided. Geocoding is the process where you convert the address of a physical location to a latitude/longitude coordinate pair. It was mentioned as being a stretch goal and I thought this was no better time to help the Calgary community.\n",
    "\n",
    "## Summary\n",
    "I intend to use OpenStreetMap's geocoder, Nominatim, to do the heavy lifting for me. It has a handy set of [APIs](https://nominatim.org/release-docs/develop/api/Search/) that make this kind of work straightforward. My plan to do this is to read the input `.csv` files, put them into dataframes, then iterate through the addresses with Python's `requests` library. I will create two additional columns in the dataframes to store the latitude and longitude values where each record's values will be written after they're geocoded.\n",
    "\n",
    "I'd like to have a quick look at some of the values that Nominatim returns to show that it works and to practice using `folium`, which is a neat library I've seen in a number of projects but never had the chance to use myself.\n",
    "\n",
    "## Challenges\n",
    "Looks like the main challenge in this project will be parsing each address into something that Nominatim can use. Hopefully the `location` values are properly separated by commas because that will make my life a lot easier.\n",
    "\n",
    "So, without further ado, let's get started!"
   ]
  },
  {
   "cell_type": "code",
   "execution_count": 9,
   "metadata": {},
   "outputs": [],
   "source": [
    "import requests\n",
    "import pandas as pd\n",
    "import folium\n",
    "import re"
   ]
  },
  {
   "cell_type": "code",
   "execution_count": 10,
   "metadata": {},
   "outputs": [],
   "source": [
    "# Read the csv\n",
    "df = pd.read_csv('kijiji-page_calgary_5KfromCityCentre_longTerm_24032020.csv')"
   ]
  },
  {
   "cell_type": "code",
   "execution_count": 11,
   "metadata": {},
   "outputs": [
    {
     "data": {
      "text/html": [
       "<div>\n",
       "<style scoped>\n",
       "    .dataframe tbody tr th:only-of-type {\n",
       "        vertical-align: middle;\n",
       "    }\n",
       "\n",
       "    .dataframe tbody tr th {\n",
       "        vertical-align: top;\n",
       "    }\n",
       "\n",
       "    .dataframe thead th {\n",
       "        text-align: right;\n",
       "    }\n",
       "</style>\n",
       "<table border=\"1\" class=\"dataframe\">\n",
       "  <thead>\n",
       "    <tr style=\"text-align: right;\">\n",
       "      <th></th>\n",
       "      <th>web-scraper-order</th>\n",
       "      <th>web-scraper-start-url</th>\n",
       "      <th>pages</th>\n",
       "      <th>pages-href</th>\n",
       "      <th>ads</th>\n",
       "      <th>ads-href</th>\n",
       "      <th>title</th>\n",
       "      <th>amount</th>\n",
       "      <th>location</th>\n",
       "      <th>Unit Type</th>\n",
       "      <th>Bedrooms</th>\n",
       "      <th>description</th>\n",
       "      <th>size</th>\n",
       "    </tr>\n",
       "  </thead>\n",
       "  <tbody>\n",
       "    <tr>\n",
       "      <th>0</th>\n",
       "      <td>1585065082-166</td>\n",
       "      <td>https://www.kijiji.ca/b-apartments-condos/calg...</td>\n",
       "      <td>18</td>\n",
       "      <td>https://www.kijiji.ca/b-apartments-condos/calg...</td>\n",
       "      <td>Wanted:\\n                            looking f...</td>\n",
       "      <td>https://www.kijiji.ca/v-apartments-condos/calg...</td>\n",
       "      <td>Wanted: looking for an appartment july 2020</td>\n",
       "      <td>$700.00</td>\n",
       "      <td>Calgary, AB, Canada, T2M2C2(View Map)</td>\n",
       "      <td>NaN</td>\n",
       "      <td>NaN</td>\n",
       "      <td>Hi! Me, my boyfriend and my dog are looking fo...</td>\n",
       "      <td>500</td>\n",
       "    </tr>\n",
       "    <tr>\n",
       "      <th>1</th>\n",
       "      <td>1585066081-410</td>\n",
       "      <td>https://www.kijiji.ca/b-apartments-condos/calg...</td>\n",
       "      <td>12</td>\n",
       "      <td>https://www.kijiji.ca/b-apartments-condos/calg...</td>\n",
       "      <td>BEAUTIFUL ONE BEDROOM ON THE RIVER FRONT</td>\n",
       "      <td>https://www.kijiji.ca/v-apartments-condos/calg...</td>\n",
       "      <td>BEAUTIFUL ONE BEDROOM ON THE RIVER FRONT</td>\n",
       "      <td>$1,450.00</td>\n",
       "      <td>315 3 St SE, Calgary, AB T2G 0S3, Canada(View ...</td>\n",
       "      <td>NaN</td>\n",
       "      <td>NaN</td>\n",
       "      <td>Incentives: ONLY $850 DAMAGE DEPOSIT!\\n*Pets a...</td>\n",
       "      <td>660</td>\n",
       "    </tr>\n",
       "    <tr>\n",
       "      <th>2</th>\n",
       "      <td>1585064971-137</td>\n",
       "      <td>https://www.kijiji.ca/b-apartments-condos/calg...</td>\n",
       "      <td>18</td>\n",
       "      <td>https://www.kijiji.ca/b-apartments-condos/calg...</td>\n",
       "      <td>Central Core 1 Bedroom Suite</td>\n",
       "      <td>https://www.kijiji.ca/v-apartments-condos/calg...</td>\n",
       "      <td>Central Core 1 Bedroom Suite</td>\n",
       "      <td>$965.00</td>\n",
       "      <td>500 505 4th Ave SW, T2P0J8, 505 4th Ave SW, AB...</td>\n",
       "      <td>NaN</td>\n",
       "      <td>NaN</td>\n",
       "      <td>If you are seeking a great value central core ...</td>\n",
       "      <td>620</td>\n",
       "    </tr>\n",
       "    <tr>\n",
       "      <th>3</th>\n",
       "      <td>1585065183-193</td>\n",
       "      <td>https://www.kijiji.ca/b-apartments-condos/calg...</td>\n",
       "      <td>20</td>\n",
       "      <td>https://www.kijiji.ca/b-apartments-condos/calg...</td>\n",
       "      <td>Wanted:\\n                            WANTED FO...</td>\n",
       "      <td>https://www.kijiji.ca/v-apartments-condos/calg...</td>\n",
       "      <td>Wanted: WANTED FOR MARCH 15TH 2020....bachelor...</td>\n",
       "      <td>$700.00</td>\n",
       "      <td>101 8 Ave SW, Calgary, AB T2P 1B4, Canada(View...</td>\n",
       "      <td>NaN</td>\n",
       "      <td>NaN</td>\n",
       "      <td>need laundry facility for 700 mnth. 50 yr old ...</td>\n",
       "      <td>400</td>\n",
       "    </tr>\n",
       "  </tbody>\n",
       "</table>\n",
       "</div>"
      ],
      "text/plain": [
       "  web-scraper-order                              web-scraper-start-url  pages  \\\n",
       "0    1585065082-166  https://www.kijiji.ca/b-apartments-condos/calg...     18   \n",
       "1    1585066081-410  https://www.kijiji.ca/b-apartments-condos/calg...     12   \n",
       "2    1585064971-137  https://www.kijiji.ca/b-apartments-condos/calg...     18   \n",
       "3    1585065183-193  https://www.kijiji.ca/b-apartments-condos/calg...     20   \n",
       "\n",
       "                                          pages-href  \\\n",
       "0  https://www.kijiji.ca/b-apartments-condos/calg...   \n",
       "1  https://www.kijiji.ca/b-apartments-condos/calg...   \n",
       "2  https://www.kijiji.ca/b-apartments-condos/calg...   \n",
       "3  https://www.kijiji.ca/b-apartments-condos/calg...   \n",
       "\n",
       "                                                 ads  \\\n",
       "0  Wanted:\\n                            looking f...   \n",
       "1           BEAUTIFUL ONE BEDROOM ON THE RIVER FRONT   \n",
       "2                       Central Core 1 Bedroom Suite   \n",
       "3  Wanted:\\n                            WANTED FO...   \n",
       "\n",
       "                                            ads-href  \\\n",
       "0  https://www.kijiji.ca/v-apartments-condos/calg...   \n",
       "1  https://www.kijiji.ca/v-apartments-condos/calg...   \n",
       "2  https://www.kijiji.ca/v-apartments-condos/calg...   \n",
       "3  https://www.kijiji.ca/v-apartments-condos/calg...   \n",
       "\n",
       "                                               title     amount  \\\n",
       "0        Wanted: looking for an appartment july 2020    $700.00   \n",
       "1           BEAUTIFUL ONE BEDROOM ON THE RIVER FRONT  $1,450.00   \n",
       "2                       Central Core 1 Bedroom Suite    $965.00   \n",
       "3  Wanted: WANTED FOR MARCH 15TH 2020....bachelor...    $700.00   \n",
       "\n",
       "                                            location  Unit Type  Bedrooms  \\\n",
       "0              Calgary, AB, Canada, T2M2C2(View Map)        NaN       NaN   \n",
       "1  315 3 St SE, Calgary, AB T2G 0S3, Canada(View ...        NaN       NaN   \n",
       "2  500 505 4th Ave SW, T2P0J8, 505 4th Ave SW, AB...        NaN       NaN   \n",
       "3  101 8 Ave SW, Calgary, AB T2P 1B4, Canada(View...        NaN       NaN   \n",
       "\n",
       "                                         description size  \n",
       "0  Hi! Me, my boyfriend and my dog are looking fo...  500  \n",
       "1  Incentives: ONLY $850 DAMAGE DEPOSIT!\\n*Pets a...  660  \n",
       "2  If you are seeking a great value central core ...  620  \n",
       "3  need laundry facility for 700 mnth. 50 yr old ...  400  "
      ]
     },
     "execution_count": 11,
     "metadata": {},
     "output_type": "execute_result"
    }
   ],
   "source": [
    "df.head(4)"
   ]
  },
  {
   "cell_type": "markdown",
   "metadata": {},
   "source": [
    "Things are already looking a little fishy with the `location` column. In the previous 4 records of the original data we have the following address patterns:\n",
    "\n",
    "* City, Province, Country, Postal Code (Without the space)\n",
    "* Appartment Number and Street Address, Province and Postal Code (With the space)\n",
    "* Appartment Number and Street Address, Postal Code (without the space), Appartment Number and Street Address again, Province\n",
    "* Appartment Number and Street Address, City, Province and Postal Code (With the space), Country\n",
    "\n",
    "Let's take a longer look at the top 15 `location` values."
   ]
  },
  {
   "cell_type": "code",
   "execution_count": 13,
   "metadata": {},
   "outputs": [
    {
     "data": {
      "text/plain": [
       "array(['Calgary, AB, Canada, T2M2C2(View Map)',\n",
       "       '315 3 St SE, Calgary, AB T2G 0S3, Canada(View Map)',\n",
       "       '500 505 4th Ave SW, T2P0J8, 505 4th Ave SW, AB(View Map)',\n",
       "       '101 8 Ave SW, Calgary, AB T2P 1B4, Canada(View Map)',\n",
       "       '1805 17 Street SW, Calgary, AB, T2T 4M3(View Map)',\n",
       "       'Ave SE, Calgary, AB T2G 0Z1, Canada(View Map)',\n",
       "       '525 56 Ave SW, Calgary, AB T2V 4Z9, Canada(View Map)',\n",
       "       '211 14 Avenue SW, Calgary, AB, T2R 0M2(View Map)',\n",
       "       '126 14 Ave SW, Calgary, AB T2R 0L9, Canada(View Map)',\n",
       "       '419 - 1 Avenue NE, Calgary, AB, T2E 0B3(View Map)',\n",
       "       '1053 10 St SW, Calgary, AB T2R 0G3, Canada(View Map)',\n",
       "       ', Calgary T2V 0G5 AB, Canada(View Map)',\n",
       "       '1431 37 Street SW, Calgary, AB, T3C 1S6(View Map)',\n",
       "       '1540 17 Ave SW #310, Calgary, AB T2T 0C8, Canada(View Map)',\n",
       "       '432 2 Avenue, T2E0E6, Calgary, AB(View Map)'], dtype=object)"
      ]
     },
     "execution_count": 13,
     "metadata": {},
     "output_type": "execute_result"
    }
   ],
   "source": [
    "df.location.values[:15]"
   ]
  },
  {
   "cell_type": "markdown",
   "metadata": {},
   "source": [
    "## Enter Regular Expressions\n",
    "Regular expressions are a powerful tool that lets us parse specific patterns out of complicated strings. "
   ]
  },
  {
   "cell_type": "code",
   "execution_count": null,
   "metadata": {},
   "outputs": [],
   "source": []
  }
 ],
 "metadata": {
  "kernelspec": {
   "display_name": "Python 3",
   "language": "python",
   "name": "python3"
  },
  "language_info": {
   "codemirror_mode": {
    "name": "ipython",
    "version": 3
   },
   "file_extension": ".py",
   "mimetype": "text/x-python",
   "name": "python",
   "nbconvert_exporter": "python",
   "pygments_lexer": "ipython3",
   "version": "3.8.2"
  }
 },
 "nbformat": 4,
 "nbformat_minor": 4
}
